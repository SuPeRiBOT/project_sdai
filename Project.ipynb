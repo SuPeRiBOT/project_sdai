{
  "nbformat": 4,
  "nbformat_minor": 0,
  "metadata": {
    "colab": {
      "provenance": []
    },
    "kernelspec": {
      "name": "python3",
      "display_name": "Python 3"
    },
    "language_info": {
      "name": "python"
    }
  },
  "cells": [
    {
      "cell_type": "code",
      "execution_count": 1,
      "metadata": {
        "id": "3iuIoL29eAdJ"
      },
      "outputs": [],
      "source": [
        "# importing all the required libraries\n",
        "import keras\n",
        "from keras.preprocessing.image import ImageDataGenerator\n",
        "from keras.models import Sequential\n",
        "from keras.layers import Dense,Dropout,Activation,Flatten,BatchNormalization\n",
        "from keras.layers import Conv2D,MaxPooling2D\n",
        "import os"
      ]
    },
    {
      "cell_type": "code",
      "source": [
        "from google.colab import drive\n",
        "drive.mount('/content/drive')"
      ],
      "metadata": {
        "colab": {
          "base_uri": "https://localhost:8080/"
        },
        "id": "FFVH5UOXvbbq",
        "outputId": "bf82b4e2-b335-4c03-de18-2cdde6e79c55"
      },
      "execution_count": 2,
      "outputs": [
        {
          "output_type": "stream",
          "name": "stdout",
          "text": [
            "Mounted at /content/drive\n"
          ]
        }
      ]
    },
    {
      "cell_type": "code",
      "source": [
        "# Declaring no. of classes and batch size\n",
        "num_classes = 7\n",
        "img_rows,img_cols = 48,48\n",
        "batch_size = 64"
      ],
      "metadata": {
        "id": "_o1K8vY6eMEH"
      },
      "execution_count": 3,
      "outputs": []
    },
    {
      "cell_type": "code",
      "source": [
        "# Assigning train and validation Directory\n",
        "train_data = '/content/drive/MyDrive/Project/images/train'\n",
        "validation_data = '/content/drive/MyDrive/Project/images/validation'"
      ],
      "metadata": {
        "id": "LlCeifbmeOsM"
      },
      "execution_count": 4,
      "outputs": []
    },
    {
      "cell_type": "code",
      "source": [
        "# Scaling pixals from 1- 255\n",
        "train_datagenerator = ImageDataGenerator(rescale = 1./255)\n",
        "\n",
        "validation_datagenerator = ImageDataGenerator(rescale=1./255)"
      ],
      "metadata": {
        "id": "9lDeNmSGegRM"
      },
      "execution_count": 5,
      "outputs": []
    },
    {
      "cell_type": "code",
      "source": [
        "# converting the image to grayscale \n",
        "train_gen = train_datagenerator.flow_from_directory(\n",
        "\t\t\t\t\ttrain_data,\n",
        "\t\t\t\t\tcolor_mode='grayscale',\n",
        "\t\t\t\t\ttarget_size=(img_rows,img_cols),\n",
        "\t\t\t\t\tbatch_size=batch_size,\n",
        "\t\t\t\t\tclass_mode='categorical',\n",
        "\t\t\t\t\tshuffle=True)\n",
        "\n",
        "validation_gen = validation_datagenerator.flow_from_directory(\n",
        "\t\t\t\t\t\t\tvalidation_data,\n",
        "\t\t\t\t\t\t\tcolor_mode='grayscale',\n",
        "\t\t\t\t\t\t\ttarget_size=(img_rows,img_cols),\n",
        "\t\t\t\t\t\t\tbatch_size=batch_size,\n",
        "\t\t\t\t\t\t\tclass_mode='categorical',\n",
        "\t\t\t\t\t\t\tshuffle=True)"
      ],
      "metadata": {
        "colab": {
          "base_uri": "https://localhost:8080/"
        },
        "id": "WNaLUw3Yek__",
        "outputId": "da02d589-3ca7-4246-f6bc-36ca68863b44"
      },
      "execution_count": 6,
      "outputs": [
        {
          "output_type": "stream",
          "name": "stdout",
          "text": [
            "Found 28821 images belonging to 7 classes.\n",
            "Found 7066 images belonging to 7 classes.\n"
          ]
        }
      ]
    },
    {
      "cell_type": "code",
      "source": [
        "# adding sequential type of neural network and adding layers\n",
        "model = Sequential()\n",
        "\n",
        "model.add(Conv2D(32,(3,3),padding='same',kernel_initializer='he_normal',input_shape=(img_rows,img_cols,1)))\n",
        "model.add(Activation('relu'))\n",
        "model.add(BatchNormalization())\n",
        "model.add(Conv2D(32,(3,3),padding='same',kernel_initializer='he_normal',input_shape=(img_rows,img_cols,1)))\n",
        "model.add(Activation('relu'))\n",
        "model.add(BatchNormalization())\n",
        "model.add(MaxPooling2D(pool_size=(2,2)))\n",
        "model.add(Dropout(0.2))"
      ],
      "metadata": {
        "id": "mSz4qtnPexxW"
      },
      "execution_count": 7,
      "outputs": []
    },
    {
      "cell_type": "code",
      "source": [
        "model.add(Conv2D(64,(3,3),padding='same',kernel_initializer='he_normal'))\n",
        "model.add(Activation('relu'))\n",
        "model.add(BatchNormalization())\n",
        "model.add(Conv2D(64,(3,3),padding='same',kernel_initializer='he_normal'))\n",
        "model.add(Activation('relu'))\n",
        "model.add(BatchNormalization())\n",
        "model.add(MaxPooling2D(pool_size=(2,2)))\n",
        "model.add(Dropout(0.2))"
      ],
      "metadata": {
        "id": "TL68zpOWe1kR"
      },
      "execution_count": 8,
      "outputs": []
    },
    {
      "cell_type": "code",
      "source": [
        "model.add(Conv2D(128,(3,3),padding='same',kernel_initializer='he_normal'))\n",
        "model.add(Activation('relu'))\n",
        "model.add(BatchNormalization())\n",
        "model.add(Conv2D(128,(3,3),padding='same',kernel_initializer='he_normal'))\n",
        "model.add(Activation('relu'))\n",
        "model.add(BatchNormalization())\n",
        "model.add(MaxPooling2D(pool_size=(2,2)))\n",
        "model.add(Dropout(0.2))"
      ],
      "metadata": {
        "id": "JnOsGkOxe4K7"
      },
      "execution_count": 9,
      "outputs": []
    },
    {
      "cell_type": "code",
      "source": [
        "model.add(Conv2D(256,(3,3),padding='same',kernel_initializer='he_normal'))\n",
        "model.add(Activation('relu'))\n",
        "model.add(BatchNormalization())\n",
        "model.add(Conv2D(256,(3,3),padding='same',kernel_initializer='he_normal'))\n",
        "model.add(Activation('relu'))\n",
        "model.add(BatchNormalization())\n",
        "model.add(MaxPooling2D(pool_size=(2,2)))\n",
        "model.add(Dropout(0.2))"
      ],
      "metadata": {
        "id": "HKFXgalFe6up"
      },
      "execution_count": 10,
      "outputs": []
    },
    {
      "cell_type": "code",
      "source": [
        "model.add(Flatten())\n",
        "model.add(Dense(64,kernel_initializer='he_normal'))\n",
        "model.add(Activation('relu'))\n",
        "model.add(BatchNormalization())\n",
        "model.add(Dropout(0.5))"
      ],
      "metadata": {
        "id": "Ux7m7u4AfBNx"
      },
      "execution_count": 11,
      "outputs": []
    },
    {
      "cell_type": "code",
      "source": [
        "model.add(Dense(64,kernel_initializer='he_normal'))\n",
        "model.add(Activation('relu'))\n",
        "model.add(BatchNormalization())\n",
        "model.add(Dropout(0.5))"
      ],
      "metadata": {
        "id": "6l3uA8qRfFdx"
      },
      "execution_count": 12,
      "outputs": []
    },
    {
      "cell_type": "code",
      "source": [
        "model.add(Dense(num_classes,kernel_initializer='he_normal'))\n",
        "model.add(Activation('softmax'))"
      ],
      "metadata": {
        "id": "Y1RJjsL-fHJX"
      },
      "execution_count": 13,
      "outputs": []
    },
    {
      "cell_type": "code",
      "source": [
        "# This is the model summary, shows the number of layers , params and output shape\n",
        "model.summary()"
      ],
      "metadata": {
        "colab": {
          "base_uri": "https://localhost:8080/"
        },
        "id": "CdI_Wq__fJop",
        "outputId": "fb81ae27-3544-4443-ef5c-0dbffb001907"
      },
      "execution_count": 14,
      "outputs": [
        {
          "output_type": "stream",
          "name": "stdout",
          "text": [
            "Model: \"sequential\"\n",
            "_________________________________________________________________\n",
            " Layer (type)                Output Shape              Param #   \n",
            "=================================================================\n",
            " conv2d (Conv2D)             (None, 48, 48, 32)        320       \n",
            "                                                                 \n",
            " activation (Activation)     (None, 48, 48, 32)        0         \n",
            "                                                                 \n",
            " batch_normalization (BatchN  (None, 48, 48, 32)       128       \n",
            " ormalization)                                                   \n",
            "                                                                 \n",
            " conv2d_1 (Conv2D)           (None, 48, 48, 32)        9248      \n",
            "                                                                 \n",
            " activation_1 (Activation)   (None, 48, 48, 32)        0         \n",
            "                                                                 \n",
            " batch_normalization_1 (Batc  (None, 48, 48, 32)       128       \n",
            " hNormalization)                                                 \n",
            "                                                                 \n",
            " max_pooling2d (MaxPooling2D  (None, 24, 24, 32)       0         \n",
            " )                                                               \n",
            "                                                                 \n",
            " dropout (Dropout)           (None, 24, 24, 32)        0         \n",
            "                                                                 \n",
            " conv2d_2 (Conv2D)           (None, 24, 24, 64)        18496     \n",
            "                                                                 \n",
            " activation_2 (Activation)   (None, 24, 24, 64)        0         \n",
            "                                                                 \n",
            " batch_normalization_2 (Batc  (None, 24, 24, 64)       256       \n",
            " hNormalization)                                                 \n",
            "                                                                 \n",
            " conv2d_3 (Conv2D)           (None, 24, 24, 64)        36928     \n",
            "                                                                 \n",
            " activation_3 (Activation)   (None, 24, 24, 64)        0         \n",
            "                                                                 \n",
            " batch_normalization_3 (Batc  (None, 24, 24, 64)       256       \n",
            " hNormalization)                                                 \n",
            "                                                                 \n",
            " max_pooling2d_1 (MaxPooling  (None, 12, 12, 64)       0         \n",
            " 2D)                                                             \n",
            "                                                                 \n",
            " dropout_1 (Dropout)         (None, 12, 12, 64)        0         \n",
            "                                                                 \n",
            " conv2d_4 (Conv2D)           (None, 12, 12, 128)       73856     \n",
            "                                                                 \n",
            " activation_4 (Activation)   (None, 12, 12, 128)       0         \n",
            "                                                                 \n",
            " batch_normalization_4 (Batc  (None, 12, 12, 128)      512       \n",
            " hNormalization)                                                 \n",
            "                                                                 \n",
            " conv2d_5 (Conv2D)           (None, 12, 12, 128)       147584    \n",
            "                                                                 \n",
            " activation_5 (Activation)   (None, 12, 12, 128)       0         \n",
            "                                                                 \n",
            " batch_normalization_5 (Batc  (None, 12, 12, 128)      512       \n",
            " hNormalization)                                                 \n",
            "                                                                 \n",
            " max_pooling2d_2 (MaxPooling  (None, 6, 6, 128)        0         \n",
            " 2D)                                                             \n",
            "                                                                 \n",
            " dropout_2 (Dropout)         (None, 6, 6, 128)         0         \n",
            "                                                                 \n",
            " conv2d_6 (Conv2D)           (None, 6, 6, 256)         295168    \n",
            "                                                                 \n",
            " activation_6 (Activation)   (None, 6, 6, 256)         0         \n",
            "                                                                 \n",
            " batch_normalization_6 (Batc  (None, 6, 6, 256)        1024      \n",
            " hNormalization)                                                 \n",
            "                                                                 \n",
            " conv2d_7 (Conv2D)           (None, 6, 6, 256)         590080    \n",
            "                                                                 \n",
            " activation_7 (Activation)   (None, 6, 6, 256)         0         \n",
            "                                                                 \n",
            " batch_normalization_7 (Batc  (None, 6, 6, 256)        1024      \n",
            " hNormalization)                                                 \n",
            "                                                                 \n",
            " max_pooling2d_3 (MaxPooling  (None, 3, 3, 256)        0         \n",
            " 2D)                                                             \n",
            "                                                                 \n",
            " dropout_3 (Dropout)         (None, 3, 3, 256)         0         \n",
            "                                                                 \n",
            " flatten (Flatten)           (None, 2304)              0         \n",
            "                                                                 \n",
            " dense (Dense)               (None, 64)                147520    \n",
            "                                                                 \n",
            " activation_8 (Activation)   (None, 64)                0         \n",
            "                                                                 \n",
            " batch_normalization_8 (Batc  (None, 64)               256       \n",
            " hNormalization)                                                 \n",
            "                                                                 \n",
            " dropout_4 (Dropout)         (None, 64)                0         \n",
            "                                                                 \n",
            " dense_1 (Dense)             (None, 64)                4160      \n",
            "                                                                 \n",
            " activation_9 (Activation)   (None, 64)                0         \n",
            "                                                                 \n",
            " batch_normalization_9 (Batc  (None, 64)               256       \n",
            " hNormalization)                                                 \n",
            "                                                                 \n",
            " dropout_5 (Dropout)         (None, 64)                0         \n",
            "                                                                 \n",
            " dense_2 (Dense)             (None, 7)                 455       \n",
            "                                                                 \n",
            " activation_10 (Activation)  (None, 7)                 0         \n",
            "                                                                 \n",
            "=================================================================\n",
            "Total params: 1,328,167\n",
            "Trainable params: 1,325,991\n",
            "Non-trainable params: 2,176\n",
            "_________________________________________________________________\n"
          ]
        }
      ]
    },
    {
      "cell_type": "code",
      "source": [
        "# Declaring Hyper parameters\n",
        "from keras.optimizers import RMSprop\n",
        "\n",
        "model.compile(loss='categorical_crossentropy',\n",
        "              optimizer = RMSprop(lr=0.001),\n",
        "              metrics=['accuracy'])"
      ],
      "metadata": {
        "colab": {
          "base_uri": "https://localhost:8080/"
        },
        "id": "3BZjDywnfR5F",
        "outputId": "a2fa04c6-c5ae-4cb1-85cf-536368d4bec7"
      },
      "execution_count": 15,
      "outputs": [
        {
          "output_type": "stream",
          "name": "stderr",
          "text": [
            "/usr/local/lib/python3.8/dist-packages/keras/optimizers/optimizer_v2/rmsprop.py:135: UserWarning: The `lr` argument is deprecated, use `learning_rate` instead.\n",
            "  super(RMSprop, self).__init__(name, **kwargs)\n"
          ]
        }
      ]
    },
    {
      "cell_type": "code",
      "source": [
        "# Training the Neural Network\n",
        "nb_train_samples = train_gen.samples\n",
        "nb_validation_samples = validation_gen.samples\n",
        "epochs=25\n",
        "\n",
        "history=model.fit_generator(\n",
        "                train_gen,\n",
        "                steps_per_epoch=nb_train_samples//batch_size,\n",
        "                epochs=epochs,\n",
        "                validation_data = validation_gen,\n",
        "                validation_steps = nb_validation_samples//batch_size)"
      ],
      "metadata": {
        "colab": {
          "base_uri": "https://localhost:8080/"
        },
        "id": "-cL-4IAmfU4L",
        "outputId": "9f86aff8-4a76-4778-9d7d-f7877ef0254f"
      },
      "execution_count": 16,
      "outputs": [
        {
          "output_type": "stream",
          "name": "stderr",
          "text": [
            "<ipython-input-16-ab160b013368>:6: UserWarning: `Model.fit_generator` is deprecated and will be removed in a future version. Please use `Model.fit`, which supports generators.\n",
            "  history=model.fit_generator(\n"
          ]
        },
        {
          "output_type": "stream",
          "name": "stdout",
          "text": [
            "Epoch 1/25\n",
            "450/450 [==============================] - 8863s 20s/step - loss: 2.2225 - accuracy: 0.2150 - val_loss: 1.6746 - val_accuracy: 0.3449\n",
            "Epoch 2/25\n",
            "450/450 [==============================] - 473s 1s/step - loss: 1.5586 - accuracy: 0.3908 - val_loss: 1.3897 - val_accuracy: 0.4714\n",
            "Epoch 3/25\n",
            "450/450 [==============================] - 474s 1s/step - loss: 1.3435 - accuracy: 0.4867 - val_loss: 1.2308 - val_accuracy: 0.5312\n",
            "Epoch 4/25\n",
            "450/450 [==============================] - 473s 1s/step - loss: 1.2402 - accuracy: 0.5289 - val_loss: 1.1878 - val_accuracy: 0.5558\n",
            "Epoch 5/25\n",
            "450/450 [==============================] - 474s 1s/step - loss: 1.1753 - accuracy: 0.5620 - val_loss: 1.1184 - val_accuracy: 0.5783\n",
            "Epoch 6/25\n",
            "450/450 [==============================] - 477s 1s/step - loss: 1.1098 - accuracy: 0.5904 - val_loss: 1.1701 - val_accuracy: 0.5707\n",
            "Epoch 7/25\n",
            "450/450 [==============================] - 476s 1s/step - loss: 1.0590 - accuracy: 0.6121 - val_loss: 1.0871 - val_accuracy: 0.5928\n",
            "Epoch 8/25\n",
            "450/450 [==============================] - 479s 1s/step - loss: 1.0037 - accuracy: 0.6360 - val_loss: 1.0512 - val_accuracy: 0.6077\n",
            "Epoch 9/25\n",
            "450/450 [==============================] - 477s 1s/step - loss: 0.9490 - accuracy: 0.6563 - val_loss: 1.0414 - val_accuracy: 0.6217\n",
            "Epoch 10/25\n",
            "450/450 [==============================] - 478s 1s/step - loss: 0.8952 - accuracy: 0.6786 - val_loss: 1.0699 - val_accuracy: 0.6199\n",
            "Epoch 11/25\n",
            "450/450 [==============================] - 476s 1s/step - loss: 0.8474 - accuracy: 0.6992 - val_loss: 1.0493 - val_accuracy: 0.6256\n",
            "Epoch 12/25\n",
            "450/450 [==============================] - 478s 1s/step - loss: 0.7968 - accuracy: 0.7219 - val_loss: 1.0524 - val_accuracy: 0.6382\n",
            "Epoch 13/25\n",
            "450/450 [==============================] - 477s 1s/step - loss: 0.7534 - accuracy: 0.7358 - val_loss: 1.0533 - val_accuracy: 0.6396\n",
            "Epoch 14/25\n",
            "450/450 [==============================] - 478s 1s/step - loss: 0.7079 - accuracy: 0.7552 - val_loss: 1.0930 - val_accuracy: 0.6330\n",
            "Epoch 15/25\n",
            "450/450 [==============================] - 478s 1s/step - loss: 0.6646 - accuracy: 0.7711 - val_loss: 1.0974 - val_accuracy: 0.6408\n",
            "Epoch 16/25\n",
            "450/450 [==============================] - 479s 1s/step - loss: 0.6191 - accuracy: 0.7888 - val_loss: 1.1283 - val_accuracy: 0.6369\n",
            "Epoch 17/25\n",
            "450/450 [==============================] - 484s 1s/step - loss: 0.5842 - accuracy: 0.8021 - val_loss: 1.1796 - val_accuracy: 0.6305\n",
            "Epoch 18/25\n",
            "450/450 [==============================] - 483s 1s/step - loss: 0.5583 - accuracy: 0.8132 - val_loss: 1.1971 - val_accuracy: 0.6391\n",
            "Epoch 19/25\n",
            "450/450 [==============================] - 483s 1s/step - loss: 0.5256 - accuracy: 0.8215 - val_loss: 1.1673 - val_accuracy: 0.6420\n",
            "Epoch 20/25\n",
            "450/450 [==============================] - 481s 1s/step - loss: 0.4942 - accuracy: 0.8342 - val_loss: 1.2071 - val_accuracy: 0.6425\n",
            "Epoch 21/25\n",
            "450/450 [==============================] - 479s 1s/step - loss: 0.4742 - accuracy: 0.8422 - val_loss: 1.3005 - val_accuracy: 0.6335\n",
            "Epoch 22/25\n",
            "450/450 [==============================] - 478s 1s/step - loss: 0.4520 - accuracy: 0.8484 - val_loss: 1.2458 - val_accuracy: 0.6334\n",
            "Epoch 23/25\n",
            "450/450 [==============================] - 480s 1s/step - loss: 0.4274 - accuracy: 0.8578 - val_loss: 1.2739 - val_accuracy: 0.6415\n",
            "Epoch 24/25\n",
            "450/450 [==============================] - 480s 1s/step - loss: 0.4050 - accuracy: 0.8668 - val_loss: 1.3041 - val_accuracy: 0.6267\n",
            "Epoch 25/25\n",
            "450/450 [==============================] - 480s 1s/step - loss: 0.3878 - accuracy: 0.8708 - val_loss: 1.3956 - val_accuracy: 0.6432\n"
          ]
        }
      ]
    },
    {
      "cell_type": "code",
      "source": [
        "model.save('mymodel.h5')"
      ],
      "metadata": {
        "id": "5JnFvdYkZR8t"
      },
      "execution_count": 17,
      "outputs": []
    },
    {
      "cell_type": "code",
      "source": [
        "from matplotlib import pyplot as plt\n",
        "\n",
        "acc = history.history['accuracy']\n",
        "val_acc = history.history['val_accuracy']\n",
        "loss = history.history['loss']\n",
        "val_loss = history.history['val_loss']\n",
        "\n",
        "\n",
        "ax1 = plt.figure(0)\n",
        "plt.plot(acc,label = 'Train')\n",
        "plt.plot(val_acc, label = 'Validation')\n",
        "plt.xlabel('Epochs ----->')\n",
        "plt.ylabel('Accuracy ----->')\n",
        "leg = ax1.legend()\n",
        "\n",
        "\n",
        "ax2 = plt.figure(1)\n",
        "plt.plot(loss,label = 'Train')\n",
        "plt.plot(val_loss,label = 'Validation')\n",
        "plt.xlabel('Epochs ----->')\n",
        "plt.ylabel('Loss ----->')\n",
        "leg = ax2.legend()"
      ],
      "metadata": {
        "colab": {
          "base_uri": "https://localhost:8080/",
          "height": 601
        },
        "id": "erK0hznjZXeZ",
        "outputId": "7c00aa65-00f2-4984-a967-8bec9f2f3f56"
      },
      "execution_count": 18,
      "outputs": [
        {
          "output_type": "display_data",
          "data": {
            "text/plain": [
              "<Figure size 432x288 with 1 Axes>"
            ],
            "image/png": "[encoded data removed]"
          },
          "metadata": {
            "needs_background": "light"
          }
        },
        {
          "output_type": "display_data",
          "data": {
            "text/plain": [
              "<Figure size 432x288 with 1 Axes>"
            ],
            "image/png": "[encoded data removed]"
          },
          "metadata": {
            "needs_background": "light"
          }
        }
      ]
    },
    {
      "cell_type": "code",
      "source": [
        "import cv2\n",
        "\n",
        "import numpy as np\n",
        "\n",
        "import tensorflow as tf\n"
      ],
      "metadata": {
        "id": "fRTkm-tjZc9K"
      },
      "execution_count": 19,
      "outputs": []
    },
    {
      "cell_type": "code",
      "source": [
        "classes = ['angry','disguisted','fearful','happy','neutral','sad','suprised']\n"
      ],
      "metadata": {
        "id": "QwrRHgLkZoBT"
      },
      "execution_count": 20,
      "outputs": []
    },
    {
      "cell_type": "code",
      "source": [
        "I1 = cv2.imread('/content/drive/MyDrive/Project/images/validation/fear/10099.jpg')\n",
        "\n",
        "ID = cv2.cvtColor(I1,cv2.COLOR_BGR2RGB)\n",
        "\n",
        "I1 = cv2.cvtColor(I1,cv2.COLOR_BGR2GRAY)\n",
        "\n",
        "\n",
        "IG = tf.cast(I1, tf.float32)\n",
        "\n",
        "plt.imshow(ID)\n",
        "\n",
        "print(\"IG shape: \" + str(IG.shape))\n",
        "\n",
        "IG = IG/255\n",
        "\n",
        "IGP = np.expand_dims(IG,axis = 0)\n",
        "\n",
        "IGP = np.expand_dims(IGP,axis = 3)\n",
        "\n",
        "print(\"IGP Shape:\" + str(IGP.shape))\n",
        "\n",
        "predictions = model.predict(IGP)\n",
        "\n",
        "index = np.argmax(predictions)\n",
        "\n",
        "print(\"Predicted Emotion is: \" + str(classes[index]))"
      ],
      "metadata": {
        "colab": {
          "base_uri": "https://localhost:8080/",
          "height": 340
        },
        "id": "DP015WXQZpZb",
        "outputId": "935ad868-0188-4972-e030-b1d8a70077f8"
      },
      "execution_count": 21,
      "outputs": [
        {
          "output_type": "stream",
          "name": "stdout",
          "text": [
            "IG shape: (48, 48)\n",
            "IGP Shape:(1, 48, 48, 1)\n",
            "1/1 [==============================] - 0s 284ms/step\n",
            "Predicted Emotion is: fearful\n"
          ]
        },
        {
          "output_type": "display_data",
          "data": {
            "text/plain": [
              "<Figure size 432x288 with 1 Axes>"
            ],
            "image/png": "[encoded data removed]"
          },
          "metadata": {
            "needs_background": "light"
          }
        }
      ]
    },
    {
      "cell_type": "code",
      "source": [
        "I1 = cv2.imread('/content/drive/MyDrive/Project/images/validation/angry/10079.jpg')\n",
        "\n",
        "ID = cv2.cvtColor(I1,cv2.COLOR_BGR2RGB)\n",
        "\n",
        "I1 = cv2.cvtColor(I1,cv2.COLOR_BGR2GRAY)\n",
        "\n",
        "\n",
        "IG = tf.cast(I1, tf.float32)\n",
        "\n",
        "plt.imshow(ID)\n",
        "\n",
        "print(\"IG shape: \" + str(IG.shape))\n",
        "\n",
        "IG = IG/255\n",
        "\n",
        "IGP = np.expand_dims(IG,axis = 0)\n",
        "\n",
        "IGP = np.expand_dims(IGP,axis = 3)\n",
        "\n",
        "print(\"IGP Shape:\" + str(IGP.shape))\n",
        "\n",
        "predictions = model.predict(IGP)\n",
        "\n",
        "index = np.argmax(predictions)\n",
        "\n",
        "print(\"Predicted Emotion is: \" + str(classes[index]))"
      ],
      "metadata": {
        "colab": {
          "base_uri": "https://localhost:8080/",
          "height": 340
        },
        "id": "SlWPRSznbYr1",
        "outputId": "6a67d69a-789b-4f40-f539-a5c4e25e4b1d"
      },
      "execution_count": 23,
      "outputs": [
        {
          "output_type": "stream",
          "name": "stdout",
          "text": [
            "IG shape: (48, 48)\n",
            "IGP Shape:(1, 48, 48, 1)\n",
            "1/1 [==============================] - 0s 18ms/step\n",
            "Predicted Emotion is: angry\n"
          ]
        },
        {
          "output_type": "display_data",
          "data": {
            "text/plain": [
              "<Figure size 432x288 with 1 Axes>"
            ],
            "image/png": "[encoded data removed]"
          },
          "metadata": {
            "needs_background": "light"
          }
        }
      ]
    },
    {
      "cell_type": "code",
      "source": [
        "I1 = cv2.imread('/content/drive/MyDrive/Project/images/validation/disgust/10435.jpg')\n",
        "\n",
        "ID = cv2.cvtColor(I1,cv2.COLOR_BGR2RGB)\n",
        "\n",
        "I1 = cv2.cvtColor(I1,cv2.COLOR_BGR2GRAY)\n",
        "\n",
        "\n",
        "IG = tf.cast(I1, tf.float32)\n",
        "\n",
        "plt.imshow(ID)\n",
        "\n",
        "print(\"IG shape: \" + str(IG.shape))\n",
        "\n",
        "IG = IG/255\n",
        "\n",
        "IGP = np.expand_dims(IG,axis = 0)\n",
        "\n",
        "IGP = np.expand_dims(IGP,axis = 3)\n",
        "\n",
        "print(\"IGP Shape:\" + str(IGP.shape))\n",
        "\n",
        "predictions = model.predict(IGP)\n",
        "\n",
        "index = np.argmax(predictions)\n",
        "\n",
        "print(\"Predicted Emotion is: \" + str(classes[index]))"
      ],
      "metadata": {
        "colab": {
          "base_uri": "https://localhost:8080/",
          "height": 340
        },
        "id": "dJJH2NLJbq8x",
        "outputId": "4d856d92-860a-4850-dbf0-2e2e953601db"
      },
      "execution_count": 24,
      "outputs": [
        {
          "output_type": "stream",
          "name": "stdout",
          "text": [
            "IG shape: (48, 48)\n",
            "IGP Shape:(1, 48, 48, 1)\n",
            "1/1 [==============================] - 0s 18ms/step\n",
            "Predicted Emotion is: disguisted\n"
          ]
        },
        {
          "output_type": "display_data",
          "data": {
            "text/plain": [
              "<Figure size 432x288 with 1 Axes>"
            ],
            "image/png": "[encoded data removed]"
          },
          "metadata": {
            "needs_background": "light"
          }
        }
      ]
    },
    {
      "cell_type": "code",
      "source": [
        "I1 = cv2.imread('/content/drive/MyDrive/Project/images/validation/happy/10362.jpg')\n",
        "\n",
        "ID = cv2.cvtColor(I1,cv2.COLOR_BGR2RGB)\n",
        "\n",
        "I1 = cv2.cvtColor(I1,cv2.COLOR_BGR2GRAY)\n",
        "\n",
        "\n",
        "IG = tf.cast(I1, tf.float32)\n",
        "\n",
        "plt.imshow(ID)\n",
        "\n",
        "print(\"IG shape: \" + str(IG.shape))\n",
        "\n",
        "IG = IG/255\n",
        "\n",
        "IGP = np.expand_dims(IG,axis = 0)\n",
        "\n",
        "IGP = np.expand_dims(IGP,axis = 3)\n",
        "\n",
        "print(\"IGP Shape:\" + str(IGP.shape))\n",
        "\n",
        "predictions = model.predict(IGP)\n",
        "\n",
        "index = np.argmax(predictions)\n",
        "\n",
        "print(\"Predicted Emotion is: \" + str(classes[index]))\n"
      ],
      "metadata": {
        "colab": {
          "base_uri": "https://localhost:8080/",
          "height": 340
        },
        "id": "T3ARWkqTb3LY",
        "outputId": "5d8a5423-2f95-46d4-913a-92007f5dad57"
      },
      "execution_count": 28,
      "outputs": [
        {
          "output_type": "stream",
          "name": "stdout",
          "text": [
            "IG shape: (48, 48)\n",
            "IGP Shape:(1, 48, 48, 1)\n",
            "1/1 [==============================] - 0s 21ms/step\n",
            "Predicted Emotion is: happy\n"
          ]
        },
        {
          "output_type": "display_data",
          "data": {
            "text/plain": [
              "<Figure size 432x288 with 1 Axes>"
            ],
            "image/png": "[encoded data removed]"
          },
          "metadata": {
            "needs_background": "light"
          }
        }
      ]
    },
    {
      "cell_type": "code",
      "source": [
        "I1 = cv2.imread('/content/drive/MyDrive/Project/images/validation/neutral/10266.jpg')\n",
        "\n",
        "ID = cv2.cvtColor(I1,cv2.COLOR_BGR2RGB)\n",
        "\n",
        "I1 = cv2.cvtColor(I1,cv2.COLOR_BGR2GRAY)\n",
        "\n",
        "\n",
        "IG = tf.cast(I1, tf.float32)\n",
        "\n",
        "plt.imshow(ID)\n",
        "\n",
        "print(\"IG shape: \" + str(IG.shape))\n",
        "\n",
        "IG = IG/255\n",
        "\n",
        "IGP = np.expand_dims(IG,axis = 0)\n",
        "\n",
        "IGP = np.expand_dims(IGP,axis = 3)\n",
        "\n",
        "print(\"IGP Shape:\" + str(IGP.shape))\n",
        "\n",
        "predictions = model.predict(IGP)\n",
        "\n",
        "index = np.argmax(predictions)\n",
        "\n",
        "print(\"Predicted Emotion is: \" + str(classes[index]))"
      ],
      "metadata": {
        "colab": {
          "base_uri": "https://localhost:8080/",
          "height": 340
        },
        "id": "ruV7PaZJcqI9",
        "outputId": "e476ab58-bba0-4d29-eba8-d74d39707250"
      },
      "execution_count": 30,
      "outputs": [
        {
          "output_type": "stream",
          "name": "stdout",
          "text": [
            "IG shape: (48, 48)\n",
            "IGP Shape:(1, 48, 48, 1)\n",
            "1/1 [==============================] - 0s 18ms/step\n",
            "Predicted Emotion is: neutral\n"
          ]
        },
        {
          "output_type": "display_data",
          "data": {
            "text/plain": [
              "<Figure size 432x288 with 1 Axes>"
            ],
            "image/png": "[encoded data removed]"
          },
          "metadata": {
            "needs_background": "light"
          }
        }
      ]
    },
    {
      "cell_type": "code",
      "source": [
        "I1 = cv2.imread('/content/drive/MyDrive/Project/images/validation/sad/1026.jpg')\n",
        "\n",
        "ID = cv2.cvtColor(I1,cv2.COLOR_BGR2RGB)\n",
        "\n",
        "I1 = cv2.cvtColor(I1,cv2.COLOR_BGR2GRAY)\n",
        "\n",
        "\n",
        "IG = tf.cast(I1, tf.float32)\n",
        "\n",
        "plt.imshow(ID)\n",
        "\n",
        "print(\"IG shape: \" + str(IG.shape))\n",
        "\n",
        "IG = IG/255\n",
        "\n",
        "IGP = np.expand_dims(IG,axis = 0)\n",
        "\n",
        "IGP = np.expand_dims(IGP,axis = 3)\n",
        "\n",
        "print(\"IGP Shape:\" + str(IGP.shape))\n",
        "\n",
        "predictions = model.predict(IGP)\n",
        "\n",
        "index = np.argmax(predictions)\n",
        "\n",
        "print(\"Predicted Emotion is: \" + str(classes[index]))"
      ],
      "metadata": {
        "colab": {
          "base_uri": "https://localhost:8080/",
          "height": 340
        },
        "id": "gif1GOyLcsi4",
        "outputId": "ee48c108-d2f0-483d-a984-14e18158fb71"
      },
      "execution_count": 31,
      "outputs": [
        {
          "output_type": "stream",
          "name": "stdout",
          "text": [
            "IG shape: (48, 48)\n",
            "IGP Shape:(1, 48, 48, 1)\n",
            "1/1 [==============================] - 0s 21ms/step\n",
            "Predicted Emotion is: sad\n"
          ]
        },
        {
          "output_type": "display_data",
          "data": {
            "text/plain": [
              "<Figure size 432x288 with 1 Axes>"
            ],
            "image/png": "[encoded data removed]"
          },
          "metadata": {
            "needs_background": "light"
          }
        }
      ]
    },
    {
      "cell_type": "code",
      "source": [
        "I1 = cv2.imread('/content/drive/MyDrive/Project/images/validation/surprise/10545.jpg')\n",
        "\n",
        "ID = cv2.cvtColor(I1,cv2.COLOR_BGR2RGB)\n",
        "\n",
        "I1 = cv2.cvtColor(I1,cv2.COLOR_BGR2GRAY)\n",
        "\n",
        "\n",
        "IG = tf.cast(I1, tf.float32)\n",
        "\n",
        "plt.imshow(ID)\n",
        "\n",
        "print(\"IG shape: \" + str(IG.shape))\n",
        "\n",
        "IG = IG/255\n",
        "\n",
        "IGP = np.expand_dims(IG,axis = 0)\n",
        "\n",
        "IGP = np.expand_dims(IGP,axis = 3)\n",
        "\n",
        "print(\"IGP Shape:\" + str(IGP.shape))\n",
        "\n",
        "predictions = model.predict(IGP)\n",
        "\n",
        "index = np.argmax(predictions)\n",
        "\n",
        "print(\"Predicted Emotion is: \" + str(classes[index]))"
      ],
      "metadata": {
        "colab": {
          "base_uri": "https://localhost:8080/",
          "height": 340
        },
        "id": "G9dIXHkycuKO",
        "outputId": "8464009a-e0f1-4e17-856b-caa034fb3fad"
      },
      "execution_count": 32,
      "outputs": [
        {
          "output_type": "stream",
          "name": "stdout",
          "text": [
            "IG shape: (48, 48)\n",
            "IGP Shape:(1, 48, 48, 1)\n",
            "1/1 [==============================] - 0s 20ms/step\n",
            "Predicted Emotion is: suprised\n"
          ]
        },
        {
          "output_type": "display_data",
          "data": {
            "text/plain": [
              "<Figure size 432x288 with 1 Axes>"
            ],
            "image/png": "[encoded data removed]"
          },
          "metadata": {
            "needs_background": "light"
          }
        }
      ]
    }
  ]
}